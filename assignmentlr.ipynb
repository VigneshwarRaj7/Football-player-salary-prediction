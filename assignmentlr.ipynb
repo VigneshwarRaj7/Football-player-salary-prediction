{
 "cells": [
  {
   "cell_type": "markdown",
   "id": "bd6f9316",
   "metadata": {},
   "source": [
    "# REGRESSION MODEL"
   ]
  },
  {
   "cell_type": "code",
   "execution_count": 72,
   "id": "f2065cd1",
   "metadata": {},
   "outputs": [],
   "source": [
    "from sklearn.tree import DecisionTreeClassifier\n",
    "from sklearn.model_selection import train_test_split\n",
    "from sklearn.metrics import confusion_matrix\n",
    "from sklearn.tree import export_graphviz\n",
    "from pandas.plotting import scatter_matrix\n",
    "from sklearn.linear_model import LinearRegression\n",
    "from io import StringIO\n",
    "from IPython.display import Image\n",
    "import matplotlib.pyplot as plt\n",
    "import pydotplus\n",
    "import math\n",
    "from sklearn.model_selection import cross_val_score\n",
    "import pandas as pd\n",
    "from sklearn import metrics\n",
    "from sklearn.model_selection import cross_val_score\n",
    "import numpy as np\n",
    "from sklearn.metrics import mean_squared_error"
   ]
  },
  {
   "cell_type": "code",
   "execution_count": 73,
   "id": "92dd0e2c",
   "metadata": {},
   "outputs": [
    {
     "name": "stdout",
     "output_type": "stream",
     "text": [
      "Rows 3900\n",
      "columns 8\n"
     ]
    },
    {
     "data": {
      "text/html": [
       "<div>\n",
       "<style scoped>\n",
       "    .dataframe tbody tr th:only-of-type {\n",
       "        vertical-align: middle;\n",
       "    }\n",
       "\n",
       "    .dataframe tbody tr th {\n",
       "        vertical-align: top;\n",
       "    }\n",
       "\n",
       "    .dataframe thead th {\n",
       "        text-align: right;\n",
       "    }\n",
       "</style>\n",
       "<table border=\"1\" class=\"dataframe\">\n",
       "  <thead>\n",
       "    <tr style=\"text-align: right;\">\n",
       "      <th></th>\n",
       "      <th>Wage</th>\n",
       "      <th>Age</th>\n",
       "      <th>Club</th>\n",
       "      <th>League</th>\n",
       "      <th>Nation</th>\n",
       "      <th>Position</th>\n",
       "      <th>Apps</th>\n",
       "      <th>Caps</th>\n",
       "    </tr>\n",
       "  </thead>\n",
       "  <tbody>\n",
       "    <tr>\n",
       "      <th>0</th>\n",
       "      <td>46427000</td>\n",
       "      <td>23</td>\n",
       "      <td>PSG</td>\n",
       "      <td>Ligue 1 Uber Eats</td>\n",
       "      <td>FRA</td>\n",
       "      <td>Forward</td>\n",
       "      <td>190</td>\n",
       "      <td>57</td>\n",
       "    </tr>\n",
       "    <tr>\n",
       "      <th>1</th>\n",
       "      <td>42125000</td>\n",
       "      <td>30</td>\n",
       "      <td>PSG</td>\n",
       "      <td>Ligue 1 Uber Eats</td>\n",
       "      <td>BRA</td>\n",
       "      <td>Midfilder</td>\n",
       "      <td>324</td>\n",
       "      <td>119</td>\n",
       "    </tr>\n",
       "    <tr>\n",
       "      <th>2</th>\n",
       "      <td>34821000</td>\n",
       "      <td>35</td>\n",
       "      <td>PSG</td>\n",
       "      <td>Ligue 1 Uber Eats</td>\n",
       "      <td>ARG</td>\n",
       "      <td>Forward</td>\n",
       "      <td>585</td>\n",
       "      <td>162</td>\n",
       "    </tr>\n",
       "    <tr>\n",
       "      <th>3</th>\n",
       "      <td>19959000</td>\n",
       "      <td>31</td>\n",
       "      <td>R. Madrid</td>\n",
       "      <td>La Liga</td>\n",
       "      <td>BEL</td>\n",
       "      <td>Forward</td>\n",
       "      <td>443</td>\n",
       "      <td>120</td>\n",
       "    </tr>\n",
       "    <tr>\n",
       "      <th>4</th>\n",
       "      <td>19500000</td>\n",
       "      <td>31</td>\n",
       "      <td>Man UFC</td>\n",
       "      <td>Premier League</td>\n",
       "      <td>ESP</td>\n",
       "      <td>Goalkeeper</td>\n",
       "      <td>480</td>\n",
       "      <td>45</td>\n",
       "    </tr>\n",
       "  </tbody>\n",
       "</table>\n",
       "</div>"
      ],
      "text/plain": [
       "       Wage  Age       Club             League Nation    Position  Apps  Caps\n",
       "0  46427000   23        PSG  Ligue 1 Uber Eats    FRA     Forward   190    57\n",
       "1  42125000   30        PSG  Ligue 1 Uber Eats    BRA   Midfilder   324   119\n",
       "2  34821000   35        PSG  Ligue 1 Uber Eats    ARG     Forward   585   162\n",
       "3  19959000   31  R. Madrid            La Liga    BEL     Forward   443   120\n",
       "4  19500000   31    Man UFC     Premier League    ESP  Goalkeeper   480    45"
      ]
     },
     "execution_count": 73,
     "metadata": {},
     "output_type": "execute_result"
    }
   ],
   "source": [
    "df = pd.read_csv('data/SalaryPrediction.csv')#loading the data using panda.\n",
    "\n",
    "print(\"Rows\",len(df))\n",
    "print(\"columns\",len(df.columns))\n",
    "\n",
    "df.head()#Displays the first five rows of the data set.\n"
   ]
  },
  {
   "cell_type": "code",
   "execution_count": 74,
   "id": "4b5886b4",
   "metadata": {},
   "outputs": [
    {
     "data": {
      "text/html": [
       "<div>\n",
       "<style scoped>\n",
       "    .dataframe tbody tr th:only-of-type {\n",
       "        vertical-align: middle;\n",
       "    }\n",
       "\n",
       "    .dataframe tbody tr th {\n",
       "        vertical-align: top;\n",
       "    }\n",
       "\n",
       "    .dataframe thead th {\n",
       "        text-align: right;\n",
       "    }\n",
       "</style>\n",
       "<table border=\"1\" class=\"dataframe\">\n",
       "  <thead>\n",
       "    <tr style=\"text-align: right;\">\n",
       "      <th></th>\n",
       "      <th>Wage</th>\n",
       "      <th>Age</th>\n",
       "      <th>Apps</th>\n",
       "      <th>Caps</th>\n",
       "    </tr>\n",
       "  </thead>\n",
       "  <tbody>\n",
       "    <tr>\n",
       "      <th>count</th>\n",
       "      <td>3.900000e+03</td>\n",
       "      <td>3900.000000</td>\n",
       "      <td>3900.000000</td>\n",
       "      <td>3900.000000</td>\n",
       "    </tr>\n",
       "    <tr>\n",
       "      <th>mean</th>\n",
       "      <td>1.365696e+06</td>\n",
       "      <td>24.116923</td>\n",
       "      <td>139.906667</td>\n",
       "      <td>8.889231</td>\n",
       "    </tr>\n",
       "    <tr>\n",
       "      <th>std</th>\n",
       "      <td>2.587484e+06</td>\n",
       "      <td>4.932493</td>\n",
       "      <td>131.547836</td>\n",
       "      <td>20.435011</td>\n",
       "    </tr>\n",
       "    <tr>\n",
       "      <th>min</th>\n",
       "      <td>1.400000e+03</td>\n",
       "      <td>18.000000</td>\n",
       "      <td>0.000000</td>\n",
       "      <td>0.000000</td>\n",
       "    </tr>\n",
       "    <tr>\n",
       "      <th>25%</th>\n",
       "      <td>7.475000e+04</td>\n",
       "      <td>20.000000</td>\n",
       "      <td>15.000000</td>\n",
       "      <td>0.000000</td>\n",
       "    </tr>\n",
       "    <tr>\n",
       "      <th>50%</th>\n",
       "      <td>3.990000e+05</td>\n",
       "      <td>24.000000</td>\n",
       "      <td>115.000000</td>\n",
       "      <td>0.000000</td>\n",
       "    </tr>\n",
       "    <tr>\n",
       "      <th>75%</th>\n",
       "      <td>1.560000e+06</td>\n",
       "      <td>28.000000</td>\n",
       "      <td>224.000000</td>\n",
       "      <td>6.000000</td>\n",
       "    </tr>\n",
       "    <tr>\n",
       "      <th>max</th>\n",
       "      <td>4.642700e+07</td>\n",
       "      <td>41.000000</td>\n",
       "      <td>715.000000</td>\n",
       "      <td>180.000000</td>\n",
       "    </tr>\n",
       "  </tbody>\n",
       "</table>\n",
       "</div>"
      ],
      "text/plain": [
       "               Wage          Age         Apps         Caps\n",
       "count  3.900000e+03  3900.000000  3900.000000  3900.000000\n",
       "mean   1.365696e+06    24.116923   139.906667     8.889231\n",
       "std    2.587484e+06     4.932493   131.547836    20.435011\n",
       "min    1.400000e+03    18.000000     0.000000     0.000000\n",
       "25%    7.475000e+04    20.000000    15.000000     0.000000\n",
       "50%    3.990000e+05    24.000000   115.000000     0.000000\n",
       "75%    1.560000e+06    28.000000   224.000000     6.000000\n",
       "max    4.642700e+07    41.000000   715.000000   180.000000"
      ]
     },
     "execution_count": 74,
     "metadata": {},
     "output_type": "execute_result"
    }
   ],
   "source": [
    "df.describe()#descritption of numerical data is performed"
   ]
  },
  {
   "cell_type": "code",
   "execution_count": 75,
   "id": "b5911fe4",
   "metadata": {},
   "outputs": [
    {
     "data": {
      "text/html": [
       "<div>\n",
       "<style scoped>\n",
       "    .dataframe tbody tr th:only-of-type {\n",
       "        vertical-align: middle;\n",
       "    }\n",
       "\n",
       "    .dataframe tbody tr th {\n",
       "        vertical-align: top;\n",
       "    }\n",
       "\n",
       "    .dataframe thead th {\n",
       "        text-align: right;\n",
       "    }\n",
       "</style>\n",
       "<table border=\"1\" class=\"dataframe\">\n",
       "  <thead>\n",
       "    <tr style=\"text-align: right;\">\n",
       "      <th></th>\n",
       "      <th>Age</th>\n",
       "      <th>Club</th>\n",
       "      <th>League</th>\n",
       "      <th>Nation</th>\n",
       "      <th>Position</th>\n",
       "      <th>Apps</th>\n",
       "      <th>Caps</th>\n",
       "    </tr>\n",
       "  </thead>\n",
       "  <tbody>\n",
       "    <tr>\n",
       "      <th>0</th>\n",
       "      <td>23</td>\n",
       "      <td>PSG</td>\n",
       "      <td>Ligue 1 Uber Eats</td>\n",
       "      <td>FRA</td>\n",
       "      <td>Forward</td>\n",
       "      <td>190</td>\n",
       "      <td>57</td>\n",
       "    </tr>\n",
       "    <tr>\n",
       "      <th>1</th>\n",
       "      <td>30</td>\n",
       "      <td>PSG</td>\n",
       "      <td>Ligue 1 Uber Eats</td>\n",
       "      <td>BRA</td>\n",
       "      <td>Midfilder</td>\n",
       "      <td>324</td>\n",
       "      <td>119</td>\n",
       "    </tr>\n",
       "    <tr>\n",
       "      <th>2</th>\n",
       "      <td>35</td>\n",
       "      <td>PSG</td>\n",
       "      <td>Ligue 1 Uber Eats</td>\n",
       "      <td>ARG</td>\n",
       "      <td>Forward</td>\n",
       "      <td>585</td>\n",
       "      <td>162</td>\n",
       "    </tr>\n",
       "    <tr>\n",
       "      <th>3</th>\n",
       "      <td>31</td>\n",
       "      <td>R. Madrid</td>\n",
       "      <td>La Liga</td>\n",
       "      <td>BEL</td>\n",
       "      <td>Forward</td>\n",
       "      <td>443</td>\n",
       "      <td>120</td>\n",
       "    </tr>\n",
       "    <tr>\n",
       "      <th>4</th>\n",
       "      <td>31</td>\n",
       "      <td>Man UFC</td>\n",
       "      <td>Premier League</td>\n",
       "      <td>ESP</td>\n",
       "      <td>Goalkeeper</td>\n",
       "      <td>480</td>\n",
       "      <td>45</td>\n",
       "    </tr>\n",
       "  </tbody>\n",
       "</table>\n",
       "</div>"
      ],
      "text/plain": [
       "   Age       Club             League Nation    Position  Apps  Caps\n",
       "0   23        PSG  Ligue 1 Uber Eats    FRA     Forward   190    57\n",
       "1   30        PSG  Ligue 1 Uber Eats    BRA   Midfilder   324   119\n",
       "2   35        PSG  Ligue 1 Uber Eats    ARG     Forward   585   162\n",
       "3   31  R. Madrid            La Liga    BEL     Forward   443   120\n",
       "4   31    Man UFC     Premier League    ESP  Goalkeeper   480    45"
      ]
     },
     "execution_count": 75,
     "metadata": {},
     "output_type": "execute_result"
    }
   ],
   "source": [
    "X = df.drop('Wage', axis = 'columns')\n",
    "\n",
    "y = df.Wage\n",
    "X.head()"
   ]
  },
  {
   "cell_type": "code",
   "execution_count": 76,
   "id": "9ff6eb19",
   "metadata": {},
   "outputs": [
    {
     "data": {
      "text/plain": [
       "0    46427000\n",
       "1    42125000\n",
       "2    34821000\n",
       "3    19959000\n",
       "4    19500000\n",
       "Name: Wage, dtype: int64"
      ]
     },
     "execution_count": 76,
     "metadata": {},
     "output_type": "execute_result"
    }
   ],
   "source": [
    "y.head()"
   ]
  },
  {
   "cell_type": "code",
   "execution_count": 77,
   "id": "c70e0870",
   "metadata": {
    "scrolled": true
   },
   "outputs": [
    {
     "data": {
      "text/html": [
       "<div>\n",
       "<style scoped>\n",
       "    .dataframe tbody tr th:only-of-type {\n",
       "        vertical-align: middle;\n",
       "    }\n",
       "\n",
       "    .dataframe tbody tr th {\n",
       "        vertical-align: top;\n",
       "    }\n",
       "\n",
       "    .dataframe thead th {\n",
       "        text-align: right;\n",
       "    }\n",
       "</style>\n",
       "<table border=\"1\" class=\"dataframe\">\n",
       "  <thead>\n",
       "    <tr style=\"text-align: right;\">\n",
       "      <th></th>\n",
       "      <th>Age</th>\n",
       "      <th>Apps</th>\n",
       "      <th>Caps</th>\n",
       "      <th>Club_1. FC Koln</th>\n",
       "      <th>Club_A. Bilbao</th>\n",
       "      <th>Club_A. Madrid</th>\n",
       "      <th>Club_AC Ajaccio</th>\n",
       "      <th>Club_AJ Auxerre</th>\n",
       "      <th>Club_AS Monaco</th>\n",
       "      <th>Club_Almeria</th>\n",
       "      <th>...</th>\n",
       "      <th>Nation_USA</th>\n",
       "      <th>Nation_UZB</th>\n",
       "      <th>Nation_VEN</th>\n",
       "      <th>Nation_WAL</th>\n",
       "      <th>Nation_ZAM</th>\n",
       "      <th>Nation_ZIM</th>\n",
       "      <th>Position_Defender</th>\n",
       "      <th>Position_Forward</th>\n",
       "      <th>Position_Goalkeeper</th>\n",
       "      <th>Position_Midfilder</th>\n",
       "    </tr>\n",
       "  </thead>\n",
       "  <tbody>\n",
       "    <tr>\n",
       "      <th>0</th>\n",
       "      <td>23</td>\n",
       "      <td>190</td>\n",
       "      <td>57</td>\n",
       "      <td>False</td>\n",
       "      <td>False</td>\n",
       "      <td>False</td>\n",
       "      <td>False</td>\n",
       "      <td>False</td>\n",
       "      <td>False</td>\n",
       "      <td>False</td>\n",
       "      <td>...</td>\n",
       "      <td>False</td>\n",
       "      <td>False</td>\n",
       "      <td>False</td>\n",
       "      <td>False</td>\n",
       "      <td>False</td>\n",
       "      <td>False</td>\n",
       "      <td>False</td>\n",
       "      <td>True</td>\n",
       "      <td>False</td>\n",
       "      <td>False</td>\n",
       "    </tr>\n",
       "    <tr>\n",
       "      <th>1</th>\n",
       "      <td>30</td>\n",
       "      <td>324</td>\n",
       "      <td>119</td>\n",
       "      <td>False</td>\n",
       "      <td>False</td>\n",
       "      <td>False</td>\n",
       "      <td>False</td>\n",
       "      <td>False</td>\n",
       "      <td>False</td>\n",
       "      <td>False</td>\n",
       "      <td>...</td>\n",
       "      <td>False</td>\n",
       "      <td>False</td>\n",
       "      <td>False</td>\n",
       "      <td>False</td>\n",
       "      <td>False</td>\n",
       "      <td>False</td>\n",
       "      <td>False</td>\n",
       "      <td>False</td>\n",
       "      <td>False</td>\n",
       "      <td>True</td>\n",
       "    </tr>\n",
       "    <tr>\n",
       "      <th>2</th>\n",
       "      <td>35</td>\n",
       "      <td>585</td>\n",
       "      <td>162</td>\n",
       "      <td>False</td>\n",
       "      <td>False</td>\n",
       "      <td>False</td>\n",
       "      <td>False</td>\n",
       "      <td>False</td>\n",
       "      <td>False</td>\n",
       "      <td>False</td>\n",
       "      <td>...</td>\n",
       "      <td>False</td>\n",
       "      <td>False</td>\n",
       "      <td>False</td>\n",
       "      <td>False</td>\n",
       "      <td>False</td>\n",
       "      <td>False</td>\n",
       "      <td>False</td>\n",
       "      <td>True</td>\n",
       "      <td>False</td>\n",
       "      <td>False</td>\n",
       "    </tr>\n",
       "    <tr>\n",
       "      <th>3</th>\n",
       "      <td>31</td>\n",
       "      <td>443</td>\n",
       "      <td>120</td>\n",
       "      <td>False</td>\n",
       "      <td>False</td>\n",
       "      <td>False</td>\n",
       "      <td>False</td>\n",
       "      <td>False</td>\n",
       "      <td>False</td>\n",
       "      <td>False</td>\n",
       "      <td>...</td>\n",
       "      <td>False</td>\n",
       "      <td>False</td>\n",
       "      <td>False</td>\n",
       "      <td>False</td>\n",
       "      <td>False</td>\n",
       "      <td>False</td>\n",
       "      <td>False</td>\n",
       "      <td>True</td>\n",
       "      <td>False</td>\n",
       "      <td>False</td>\n",
       "    </tr>\n",
       "    <tr>\n",
       "      <th>4</th>\n",
       "      <td>31</td>\n",
       "      <td>480</td>\n",
       "      <td>45</td>\n",
       "      <td>False</td>\n",
       "      <td>False</td>\n",
       "      <td>False</td>\n",
       "      <td>False</td>\n",
       "      <td>False</td>\n",
       "      <td>False</td>\n",
       "      <td>False</td>\n",
       "      <td>...</td>\n",
       "      <td>False</td>\n",
       "      <td>False</td>\n",
       "      <td>False</td>\n",
       "      <td>False</td>\n",
       "      <td>False</td>\n",
       "      <td>False</td>\n",
       "      <td>False</td>\n",
       "      <td>False</td>\n",
       "      <td>True</td>\n",
       "      <td>False</td>\n",
       "    </tr>\n",
       "  </tbody>\n",
       "</table>\n",
       "<p>5 rows × 243 columns</p>\n",
       "</div>"
      ],
      "text/plain": [
       "   Age  Apps  Caps  Club_1. FC Koln  Club_A. Bilbao  Club_A. Madrid  \\\n",
       "0   23   190    57            False           False           False   \n",
       "1   30   324   119            False           False           False   \n",
       "2   35   585   162            False           False           False   \n",
       "3   31   443   120            False           False           False   \n",
       "4   31   480    45            False           False           False   \n",
       "\n",
       "   Club_AC Ajaccio  Club_AJ Auxerre  Club_AS Monaco  Club_Almeria  ...  \\\n",
       "0            False            False           False         False  ...   \n",
       "1            False            False           False         False  ...   \n",
       "2            False            False           False         False  ...   \n",
       "3            False            False           False         False  ...   \n",
       "4            False            False           False         False  ...   \n",
       "\n",
       "   Nation_USA  Nation_UZB  Nation_VEN  Nation_WAL  Nation_ZAM  Nation_ZIM  \\\n",
       "0       False       False       False       False       False       False   \n",
       "1       False       False       False       False       False       False   \n",
       "2       False       False       False       False       False       False   \n",
       "3       False       False       False       False       False       False   \n",
       "4       False       False       False       False       False       False   \n",
       "\n",
       "   Position_Defender  Position_Forward  Position_Goalkeeper  \\\n",
       "0              False              True                False   \n",
       "1              False             False                False   \n",
       "2              False              True                False   \n",
       "3              False              True                False   \n",
       "4              False             False                 True   \n",
       "\n",
       "   Position_Midfilder  \n",
       "0               False  \n",
       "1                True  \n",
       "2               False  \n",
       "3               False  \n",
       "4               False  \n",
       "\n",
       "[5 rows x 243 columns]"
      ]
     },
     "execution_count": 77,
     "metadata": {},
     "output_type": "execute_result"
    }
   ],
   "source": [
    "X = pd.get_dummies(X)#one hot encoding is done convert all the categorical data into numeric data\n",
    "X.head()\n"
   ]
  },
  {
   "cell_type": "code",
   "execution_count": 78,
   "id": "743fa33b",
   "metadata": {},
   "outputs": [
    {
     "data": {
      "text/plain": [
       "(3900, 243)"
      ]
     },
     "execution_count": 78,
     "metadata": {},
     "output_type": "execute_result"
    }
   ],
   "source": [
    "X.shape"
   ]
  },
  {
   "cell_type": "code",
   "execution_count": 79,
   "id": "6ac2ef07",
   "metadata": {},
   "outputs": [
    {
     "name": "stdout",
     "output_type": "stream",
     "text": [
      "Index(['Age', 'Apps', 'Caps', 'Club_1. FC Koln', 'Club_A. Bilbao',\n",
      "       'Club_A. Madrid', 'Club_AC Ajaccio', 'Club_AJ Auxerre',\n",
      "       'Club_AS Monaco', 'Club_Almeria',\n",
      "       ...\n",
      "       'Nation_USA', 'Nation_UZB', 'Nation_VEN', 'Nation_WAL', 'Nation_ZAM',\n",
      "       'Nation_ZIM', 'Position_Defender', 'Position_Forward',\n",
      "       'Position_Goalkeeper', 'Position_Midfilder'],\n",
      "      dtype='object', length=243)\n"
     ]
    }
   ],
   "source": [
    "feature_names = X.columns\n",
    "print(feature_names)"
   ]
  },
  {
   "cell_type": "code",
   "execution_count": 80,
   "id": "7ec895ab",
   "metadata": {},
   "outputs": [
    {
     "name": "stdout",
     "output_type": "stream",
     "text": [
      "(3900, 8)\n"
     ]
    }
   ],
   "source": [
    "print(df.shape)"
   ]
  },
  {
   "cell_type": "code",
   "execution_count": 81,
   "id": "0da594e7",
   "metadata": {},
   "outputs": [
    {
     "name": "stdout",
     "output_type": "stream",
     "text": [
      "(3900, 243)\n",
      "(3900,)\n"
     ]
    }
   ],
   "source": [
    "print(X.shape)\n",
    "print(y.shape)"
   ]
  },
  {
   "cell_type": "code",
   "execution_count": 100,
   "id": "816e3bf6",
   "metadata": {
    "scrolled": true
   },
   "outputs": [
    {
     "data": {
      "image/png": "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",
      "text/plain": [
       "<Figure size 640x480 with 16 Axes>"
      ]
     },
     "metadata": {},
     "output_type": "display_data"
    },
    {
     "data": {
      "text/plain": [
       "<Figure size 640x480 with 0 Axes>"
      ]
     },
     "metadata": {},
     "output_type": "display_data"
    }
   ],
   "source": [
    "scatter_matrix(df)\n",
    "plt.show()\n",
    "\n",
    "plt.savefig('plots/Scatter_matirx_LR.png')\n"
   ]
  },
  {
   "cell_type": "markdown",
   "id": "49ee6362",
   "metadata": {},
   "source": [
    "# Test and train data split"
   ]
  },
  {
   "cell_type": "code",
   "execution_count": 101,
   "id": "06d69ed3",
   "metadata": {},
   "outputs": [
    {
     "name": "stdout",
     "output_type": "stream",
     "text": [
      "(3861, 246)\n",
      "(3861,)\n",
      "(39, 246)\n",
      "(39,)\n"
     ]
    }
   ],
   "source": [
    "\n",
    "X_train, X_test, y_train, y_test = train_test_split(X, y, test_size=0.01, \n",
    "                                                    random_state=1)\n",
    "print(X_train.shape)\n",
    "print(y_train.shape)\n",
    "print(X_test.shape)\n",
    "print(y_test.shape)"
   ]
  },
  {
   "cell_type": "code",
   "execution_count": 109,
   "id": "e18480d0",
   "metadata": {},
   "outputs": [
    {
     "data": {
      "text/html": [
       "<style>#sk-container-id-7 {color: black;}#sk-container-id-7 pre{padding: 0;}#sk-container-id-7 div.sk-toggleable {background-color: white;}#sk-container-id-7 label.sk-toggleable__label {cursor: pointer;display: block;width: 100%;margin-bottom: 0;padding: 0.3em;box-sizing: border-box;text-align: center;}#sk-container-id-7 label.sk-toggleable__label-arrow:before {content: \"▸\";float: left;margin-right: 0.25em;color: #696969;}#sk-container-id-7 label.sk-toggleable__label-arrow:hover:before {color: black;}#sk-container-id-7 div.sk-estimator:hover label.sk-toggleable__label-arrow:before {color: black;}#sk-container-id-7 div.sk-toggleable__content {max-height: 0;max-width: 0;overflow: hidden;text-align: left;background-color: #f0f8ff;}#sk-container-id-7 div.sk-toggleable__content pre {margin: 0.2em;color: black;border-radius: 0.25em;background-color: #f0f8ff;}#sk-container-id-7 input.sk-toggleable__control:checked~div.sk-toggleable__content {max-height: 200px;max-width: 100%;overflow: auto;}#sk-container-id-7 input.sk-toggleable__control:checked~label.sk-toggleable__label-arrow:before {content: \"▾\";}#sk-container-id-7 div.sk-estimator input.sk-toggleable__control:checked~label.sk-toggleable__label {background-color: #d4ebff;}#sk-container-id-7 div.sk-label input.sk-toggleable__control:checked~label.sk-toggleable__label {background-color: #d4ebff;}#sk-container-id-7 input.sk-hidden--visually {border: 0;clip: rect(1px 1px 1px 1px);clip: rect(1px, 1px, 1px, 1px);height: 1px;margin: -1px;overflow: hidden;padding: 0;position: absolute;width: 1px;}#sk-container-id-7 div.sk-estimator {font-family: monospace;background-color: #f0f8ff;border: 1px dotted black;border-radius: 0.25em;box-sizing: border-box;margin-bottom: 0.5em;}#sk-container-id-7 div.sk-estimator:hover {background-color: #d4ebff;}#sk-container-id-7 div.sk-parallel-item::after {content: \"\";width: 100%;border-bottom: 1px solid gray;flex-grow: 1;}#sk-container-id-7 div.sk-label:hover label.sk-toggleable__label {background-color: #d4ebff;}#sk-container-id-7 div.sk-serial::before {content: \"\";position: absolute;border-left: 1px solid gray;box-sizing: border-box;top: 0;bottom: 0;left: 50%;z-index: 0;}#sk-container-id-7 div.sk-serial {display: flex;flex-direction: column;align-items: center;background-color: white;padding-right: 0.2em;padding-left: 0.2em;position: relative;}#sk-container-id-7 div.sk-item {position: relative;z-index: 1;}#sk-container-id-7 div.sk-parallel {display: flex;align-items: stretch;justify-content: center;background-color: white;position: relative;}#sk-container-id-7 div.sk-item::before, #sk-container-id-7 div.sk-parallel-item::before {content: \"\";position: absolute;border-left: 1px solid gray;box-sizing: border-box;top: 0;bottom: 0;left: 50%;z-index: -1;}#sk-container-id-7 div.sk-parallel-item {display: flex;flex-direction: column;z-index: 1;position: relative;background-color: white;}#sk-container-id-7 div.sk-parallel-item:first-child::after {align-self: flex-end;width: 50%;}#sk-container-id-7 div.sk-parallel-item:last-child::after {align-self: flex-start;width: 50%;}#sk-container-id-7 div.sk-parallel-item:only-child::after {width: 0;}#sk-container-id-7 div.sk-dashed-wrapped {border: 1px dashed gray;margin: 0 0.4em 0.5em 0.4em;box-sizing: border-box;padding-bottom: 0.4em;background-color: white;}#sk-container-id-7 div.sk-label label {font-family: monospace;font-weight: bold;display: inline-block;line-height: 1.2em;}#sk-container-id-7 div.sk-label-container {text-align: center;}#sk-container-id-7 div.sk-container {/* jupyter's `normalize.less` sets `[hidden] { display: none; }` but bootstrap.min.css set `[hidden] { display: none !important; }` so we also need the `!important` here to be able to override the default hidden behavior on the sphinx rendered scikit-learn.org. See: https://github.com/scikit-learn/scikit-learn/issues/21755 */display: inline-block !important;position: relative;}#sk-container-id-7 div.sk-text-repr-fallback {display: none;}</style><div id=\"sk-container-id-7\" class=\"sk-top-container\"><div class=\"sk-text-repr-fallback\"><pre>LinearRegression()</pre><b>In a Jupyter environment, please rerun this cell to show the HTML representation or trust the notebook. <br />On GitHub, the HTML representation is unable to render, please try loading this page with nbviewer.org.</b></div><div class=\"sk-container\" hidden><div class=\"sk-item\"><div class=\"sk-estimator sk-toggleable\"><input class=\"sk-toggleable__control sk-hidden--visually\" id=\"sk-estimator-id-7\" type=\"checkbox\" checked><label for=\"sk-estimator-id-7\" class=\"sk-toggleable__label sk-toggleable__label-arrow\">LinearRegression</label><div class=\"sk-toggleable__content\"><pre>LinearRegression()</pre></div></div></div></div></div>"
      ],
      "text/plain": [
       "LinearRegression()"
      ]
     },
     "execution_count": 109,
     "metadata": {},
     "output_type": "execute_result"
    }
   ],
   "source": [
    "#fitting into linear regression model\n",
    "model = LinearRegression()\n",
    "model.fit(X_train, y_train)"
   ]
  },
  {
   "cell_type": "code",
   "execution_count": 103,
   "id": "de7f6cab",
   "metadata": {},
   "outputs": [
    {
     "name": "stdout",
     "output_type": "stream",
     "text": [
      "intercept: -6414956.614302821\n",
      "slopes: [ 5.69382078e+05  1.13128436e+04  6.11641248e+04 -8.21818647e+05\n",
      "  3.56624251e+05  1.45915216e+06 -5.18375799e+05 -6.53430143e+05\n",
      "  2.10550298e+05 -8.49729514e+05 -5.99555716e+05 -3.14369866e+05\n",
      "  2.03764996e+05 -2.28812161e+05 -1.23293326e+05 -9.08504767e+05\n",
      "  1.44551574e+05  1.59818336e+05  3.72924141e+06  3.99700700e+05\n",
      "  2.30025522e+05 -1.75191891e+05  1.62900267e+06  2.21230321e+05\n",
      " -6.66350929e+05 -7.02501228e+05 -8.18640705e+05 -4.62309364e+05\n",
      " -6.20344744e+05 -6.72390109e+05  5.72931713e+05 -2.98348937e+05\n",
      " -5.22211708e+05  1.88896073e+06 -7.31892655e+05 -3.58737957e+05\n",
      " -3.07860335e+05 -7.38715460e+05 -8.88126356e+05 -2.37782740e+05\n",
      " -8.46981061e+05 -1.34410592e+05 -8.66046934e+04 -4.12918721e+05\n",
      "  4.97717231e+06 -5.17381229e+05 -9.72888512e+05 -1.65949805e+04\n",
      "  5.59557081e+04 -3.14046649e+05 -9.38019997e+05 -5.96567105e+05\n",
      "  6.11764506e+04 -7.51151295e+05 -5.17467232e+05 -2.84395573e+05\n",
      "  1.28589912e+06  1.54554272e+06 -1.86844068e+05  2.89488140e+05\n",
      " -4.22582301e+05 -5.23359048e+04  1.17912904e+06  2.02344177e+05\n",
      " -4.28912818e+05 -8.82000913e+05  1.77149506e+06  1.81975851e+06\n",
      "  2.80264693e+05 -7.67879723e+05  4.76214916e+04 -7.28995284e+05\n",
      "  1.17309092e+05  2.73397612e+05 -2.35124596e+04 -5.48476563e+04\n",
      "  7.49557130e+06 -1.61101184e+05  1.86288524e+05  5.30582892e+06\n",
      "  1.44788004e+05 -6.37540560e+05 -6.31323167e+05 -3.80506179e+05\n",
      " -3.34233638e+05 -2.74549086e+05 -7.10643313e+04 -1.19155543e+06\n",
      " -5.82490059e+05 -2.29124935e+05 -7.31598064e+05 -1.88510349e+05\n",
      " -3.09763447e+05 -7.35938560e+04 -4.25743366e+05 -2.64128077e+05\n",
      " -5.13127289e+05 -2.82688617e+05  4.65640355e+05 -7.61375085e+05\n",
      " -4.41663343e+05  6.61722095e+04 -1.80059393e+05 -4.65272641e+05\n",
      " -2.35961170e+05 -7.67064782e+05  2.48998579e+05 -2.94810219e+05\n",
      " -3.44384722e+05 -1.05082371e+06 -8.47017620e+05 -4.32248243e+05\n",
      " -6.19944719e+05 -8.25596324e+05  2.45389121e+05 -4.35913903e+05\n",
      " -5.05645133e+05 -4.46824618e+04 -5.79046900e+05  6.59991761e+02\n",
      " -4.34688778e+03 -3.46603106e+05  1.08563782e+06 -6.09012220e+05\n",
      " -1.26335594e+05  1.39020125e+05  4.53458706e+05  9.98061278e+05\n",
      "  1.50091055e+06 -1.98569379e+06  3.74355625e+05  2.55420780e+05\n",
      " -2.35287713e+05  1.59686026e+06 -1.02385308e+06 -3.70831416e+05\n",
      " -7.37309585e+05  1.44092659e+05  1.50763936e+06  8.72768771e+05\n",
      "  2.90224490e+05 -9.04782155e+04 -1.98613910e+06 -7.98995678e+03\n",
      "  9.75103582e+05  4.18662893e+05  3.58383507e+04  3.94159843e+05\n",
      " -8.62893157e+05  2.43887602e+05  7.81202638e+05  2.71028804e+05\n",
      "  2.18117177e+06 -1.69651244e+05 -5.45635557e+05 -1.39258435e+05\n",
      "  1.48765159e+05 -3.89738036e+04  2.06007642e+05  1.35362861e+06\n",
      "  3.69837993e+05 -2.31852605e+05  7.67722081e+05 -5.02134053e+04\n",
      " -5.15058318e+05  1.48990914e+06  4.97141145e+05 -1.94790718e+05\n",
      " -1.22992994e+05  1.08929211e+06  7.31002896e+05  3.08688090e+05\n",
      "  7.74317312e+05  1.73974951e+05  7.58548548e+05  3.82083783e+05\n",
      "  3.29261417e+05 -3.87670661e+05 -2.03638161e+06 -3.60146393e+04\n",
      "  1.30202828e+05 -1.57503655e+06 -1.02766786e+06  5.12188925e+05\n",
      " -7.31875305e+05  9.22271095e+05  2.90548725e+05 -4.53384548e+05\n",
      "  2.23995816e+05 -6.76759885e+05 -1.62165221e+06  9.98244087e+05\n",
      " -1.38616072e+05 -1.32070883e+05  1.30806385e+05  3.17021890e+05\n",
      " -2.33158506e+06 -1.56738426e+06  6.37375547e+05 -5.56942084e+05\n",
      " -2.25962471e+05 -1.76814762e+06  6.25808627e+05  4.83993787e+05\n",
      " -6.41225591e+05  1.86783429e+04 -1.28939446e+06 -1.70142724e+06\n",
      "  9.51499059e+04 -9.45251414e+05  6.74606116e+05 -4.67835623e+05\n",
      "  2.85427692e+05  8.34345852e+05  1.23807952e+05  9.72179446e+04\n",
      "  4.60359796e+05 -2.12509865e+05  8.16409811e+05  3.43173012e+05\n",
      "  3.77432985e+05  3.16467658e+05 -7.51314647e+05  1.01955791e+06\n",
      " -1.24479239e+06  4.60977950e+05  1.87148409e+05 -8.34571162e+05\n",
      " -7.56224136e+05  2.79116633e+05  1.69933547e+05  2.34337064e+05\n",
      "  3.55555954e+05  1.52861457e+04 -1.91041310e+06 -3.69490681e+05\n",
      " -1.68159533e+05  6.08894140e+05  8.27316674e+03 -1.12343109e+05\n",
      "  8.21683483e+04  1.73709932e+04  1.28037673e+04 -1.40211161e+04\n",
      " -6.52572176e+00 -1.14081065e+02]\n"
     ]
    }
   ],
   "source": [
    "print('intercept:', model.intercept_)\n",
    "print('slopes:', model.coef_)"
   ]
  },
  {
   "cell_type": "markdown",
   "id": "86c3841c",
   "metadata": {},
   "source": [
    "# Rsquare for LR"
   ]
  },
  {
   "cell_type": "code",
   "execution_count": 104,
   "id": "58d6daf4",
   "metadata": {},
   "outputs": [
    {
     "name": "stdout",
     "output_type": "stream",
     "text": [
      "R squared: 0.6405455794983195\n"
     ]
    }
   ],
   "source": [
    "print('R squared:', model.score(X,y))#print('coefficient of determination:', model.score(X, y))"
   ]
  },
  {
   "cell_type": "code",
   "execution_count": 105,
   "id": "8b67624c",
   "metadata": {},
   "outputs": [
    {
     "name": "stdout",
     "output_type": "stream",
     "text": [
      "[ -289726.30241974  2337190.98195573  1108051.4712975   -854305.57290741\n",
      "  1414796.50870328 -1334807.57927119  4596113.30333736  1103521.6685535\n",
      "  3785034.97988874   542302.83751934   348082.77323472   987016.31406283\n",
      "  2852190.99242182  -431089.50106541  1765335.79646807  4182656.01135325\n",
      "   605875.38071509  2513710.78482063   471965.7203367   2029176.86036541\n",
      "  1026363.13546697   916933.59431421   210197.36143688  2969801.7027921\n",
      "  -438394.91419033   974015.71398736  3673498.91453192  -122712.19806657\n",
      "   351074.1836375   -127702.15993589  2328038.0786549   -129404.93359374\n",
      "  2125197.44152718  1057714.36807334  6861895.08361284  1170914.72152056\n",
      "   697396.27778329  1334564.53917781   783662.4886483 ]\n"
     ]
    }
   ],
   "source": [
    "y_hat = model.predict(X_test)\n",
    "print(y_hat)"
   ]
  },
  {
   "cell_type": "markdown",
   "id": "a45f0f53",
   "metadata": {},
   "source": [
    "# RMSE for linear regression"
   ]
  },
  {
   "cell_type": "code",
   "execution_count": 106,
   "id": "fe499c6f",
   "metadata": {},
   "outputs": [
    {
     "name": "stdout",
     "output_type": "stream",
     "text": [
      "RMSE 1312531.7650288944\n"
     ]
    }
   ],
   "source": [
    "print(\"RMSE\", mean_squared_error(y_test,y_hat,squared = False))"
   ]
  },
  {
   "cell_type": "code",
   "execution_count": 107,
   "id": "c7a5a457",
   "metadata": {},
   "outputs": [
    {
     "data": {
      "text/html": [
       "<div>\n",
       "<style scoped>\n",
       "    .dataframe tbody tr th:only-of-type {\n",
       "        vertical-align: middle;\n",
       "    }\n",
       "\n",
       "    .dataframe tbody tr th {\n",
       "        vertical-align: top;\n",
       "    }\n",
       "\n",
       "    .dataframe thead th {\n",
       "        text-align: right;\n",
       "    }\n",
       "</style>\n",
       "<table border=\"1\" class=\"dataframe\">\n",
       "  <thead>\n",
       "    <tr style=\"text-align: right;\">\n",
       "      <th></th>\n",
       "      <th>Age</th>\n",
       "      <th>Apps</th>\n",
       "      <th>Caps</th>\n",
       "      <th>Club_1. FC Koln</th>\n",
       "      <th>Club_A. Bilbao</th>\n",
       "      <th>Club_A. Madrid</th>\n",
       "      <th>Club_AC Ajaccio</th>\n",
       "      <th>Club_AJ Auxerre</th>\n",
       "      <th>Club_AS Monaco</th>\n",
       "      <th>Club_Almeria</th>\n",
       "      <th>...</th>\n",
       "      <th>Nation_WAL</th>\n",
       "      <th>Nation_ZAM</th>\n",
       "      <th>Nation_ZIM</th>\n",
       "      <th>Position_Defender</th>\n",
       "      <th>Position_Forward</th>\n",
       "      <th>Position_Goalkeeper</th>\n",
       "      <th>Position_Midfilder</th>\n",
       "      <th>AgeSquared</th>\n",
       "      <th>AppsSquared</th>\n",
       "      <th>CapsSquared</th>\n",
       "    </tr>\n",
       "  </thead>\n",
       "  <tbody>\n",
       "    <tr>\n",
       "      <th>0</th>\n",
       "      <td>23</td>\n",
       "      <td>190</td>\n",
       "      <td>57</td>\n",
       "      <td>False</td>\n",
       "      <td>False</td>\n",
       "      <td>False</td>\n",
       "      <td>False</td>\n",
       "      <td>False</td>\n",
       "      <td>False</td>\n",
       "      <td>False</td>\n",
       "      <td>...</td>\n",
       "      <td>False</td>\n",
       "      <td>False</td>\n",
       "      <td>False</td>\n",
       "      <td>False</td>\n",
       "      <td>True</td>\n",
       "      <td>False</td>\n",
       "      <td>False</td>\n",
       "      <td>529</td>\n",
       "      <td>36100</td>\n",
       "      <td>3249</td>\n",
       "    </tr>\n",
       "    <tr>\n",
       "      <th>1</th>\n",
       "      <td>30</td>\n",
       "      <td>324</td>\n",
       "      <td>119</td>\n",
       "      <td>False</td>\n",
       "      <td>False</td>\n",
       "      <td>False</td>\n",
       "      <td>False</td>\n",
       "      <td>False</td>\n",
       "      <td>False</td>\n",
       "      <td>False</td>\n",
       "      <td>...</td>\n",
       "      <td>False</td>\n",
       "      <td>False</td>\n",
       "      <td>False</td>\n",
       "      <td>False</td>\n",
       "      <td>False</td>\n",
       "      <td>False</td>\n",
       "      <td>True</td>\n",
       "      <td>900</td>\n",
       "      <td>104976</td>\n",
       "      <td>14161</td>\n",
       "    </tr>\n",
       "    <tr>\n",
       "      <th>2</th>\n",
       "      <td>35</td>\n",
       "      <td>585</td>\n",
       "      <td>162</td>\n",
       "      <td>False</td>\n",
       "      <td>False</td>\n",
       "      <td>False</td>\n",
       "      <td>False</td>\n",
       "      <td>False</td>\n",
       "      <td>False</td>\n",
       "      <td>False</td>\n",
       "      <td>...</td>\n",
       "      <td>False</td>\n",
       "      <td>False</td>\n",
       "      <td>False</td>\n",
       "      <td>False</td>\n",
       "      <td>True</td>\n",
       "      <td>False</td>\n",
       "      <td>False</td>\n",
       "      <td>1225</td>\n",
       "      <td>342225</td>\n",
       "      <td>26244</td>\n",
       "    </tr>\n",
       "    <tr>\n",
       "      <th>3</th>\n",
       "      <td>31</td>\n",
       "      <td>443</td>\n",
       "      <td>120</td>\n",
       "      <td>False</td>\n",
       "      <td>False</td>\n",
       "      <td>False</td>\n",
       "      <td>False</td>\n",
       "      <td>False</td>\n",
       "      <td>False</td>\n",
       "      <td>False</td>\n",
       "      <td>...</td>\n",
       "      <td>False</td>\n",
       "      <td>False</td>\n",
       "      <td>False</td>\n",
       "      <td>False</td>\n",
       "      <td>True</td>\n",
       "      <td>False</td>\n",
       "      <td>False</td>\n",
       "      <td>961</td>\n",
       "      <td>196249</td>\n",
       "      <td>14400</td>\n",
       "    </tr>\n",
       "    <tr>\n",
       "      <th>4</th>\n",
       "      <td>31</td>\n",
       "      <td>480</td>\n",
       "      <td>45</td>\n",
       "      <td>False</td>\n",
       "      <td>False</td>\n",
       "      <td>False</td>\n",
       "      <td>False</td>\n",
       "      <td>False</td>\n",
       "      <td>False</td>\n",
       "      <td>False</td>\n",
       "      <td>...</td>\n",
       "      <td>False</td>\n",
       "      <td>False</td>\n",
       "      <td>False</td>\n",
       "      <td>False</td>\n",
       "      <td>False</td>\n",
       "      <td>True</td>\n",
       "      <td>False</td>\n",
       "      <td>961</td>\n",
       "      <td>230400</td>\n",
       "      <td>2025</td>\n",
       "    </tr>\n",
       "  </tbody>\n",
       "</table>\n",
       "<p>5 rows × 246 columns</p>\n",
       "</div>"
      ],
      "text/plain": [
       "   Age  Apps  Caps  Club_1. FC Koln  Club_A. Bilbao  Club_A. Madrid  \\\n",
       "0   23   190    57            False           False           False   \n",
       "1   30   324   119            False           False           False   \n",
       "2   35   585   162            False           False           False   \n",
       "3   31   443   120            False           False           False   \n",
       "4   31   480    45            False           False           False   \n",
       "\n",
       "   Club_AC Ajaccio  Club_AJ Auxerre  Club_AS Monaco  Club_Almeria  ...  \\\n",
       "0            False            False           False         False  ...   \n",
       "1            False            False           False         False  ...   \n",
       "2            False            False           False         False  ...   \n",
       "3            False            False           False         False  ...   \n",
       "4            False            False           False         False  ...   \n",
       "\n",
       "   Nation_WAL  Nation_ZAM  Nation_ZIM  Position_Defender  Position_Forward  \\\n",
       "0       False       False       False              False              True   \n",
       "1       False       False       False              False             False   \n",
       "2       False       False       False              False              True   \n",
       "3       False       False       False              False              True   \n",
       "4       False       False       False              False             False   \n",
       "\n",
       "   Position_Goalkeeper  Position_Midfilder  AgeSquared  AppsSquared  \\\n",
       "0                False               False         529        36100   \n",
       "1                False                True         900       104976   \n",
       "2                False               False        1225       342225   \n",
       "3                False               False         961       196249   \n",
       "4                 True               False         961       230400   \n",
       "\n",
       "   CapsSquared  \n",
       "0         3249  \n",
       "1        14161  \n",
       "2        26244  \n",
       "3        14400  \n",
       "4         2025  \n",
       "\n",
       "[5 rows x 246 columns]"
      ]
     },
     "execution_count": 107,
     "metadata": {},
     "output_type": "execute_result"
    }
   ],
   "source": [
    "#squaring the numeric features of the data set for polynomial regression\n",
    "X['AgeSquared'] = np.square(df.Age)\n",
    "X['AppsSquared'] = np.square(df.Apps)\n",
    "X['CapsSquared'] = np.square(df.Caps)\n",
    "X.head()\n"
   ]
  },
  {
   "cell_type": "code",
   "execution_count": 108,
   "id": "0dd93261",
   "metadata": {},
   "outputs": [
    {
     "name": "stdout",
     "output_type": "stream",
     "text": [
      "Index(['Age', 'Apps', 'Caps', 'Club_1. FC Koln', 'Club_A. Bilbao',\n",
      "       'Club_A. Madrid', 'Club_AC Ajaccio', 'Club_AJ Auxerre',\n",
      "       'Club_AS Monaco', 'Club_Almeria',\n",
      "       ...\n",
      "       'Nation_WAL', 'Nation_ZAM', 'Nation_ZIM', 'Position_Defender',\n",
      "       'Position_Forward', 'Position_Goalkeeper', 'Position_Midfilder',\n",
      "       'AgeSquared', 'AppsSquared', 'CapsSquared'],\n",
      "      dtype='object', length=246)\n"
     ]
    }
   ],
   "source": [
    "feature_names = X.columns\n",
    "print(feature_names)"
   ]
  },
  {
   "cell_type": "code",
   "execution_count": 110,
   "id": "6240e65b",
   "metadata": {},
   "outputs": [
    {
     "name": "stdout",
     "output_type": "stream",
     "text": [
      "(3861, 246)\n",
      "(3861,)\n",
      "(39, 246)\n",
      "(39,)\n"
     ]
    }
   ],
   "source": [
    "#splitting rest and train data after changing the data set for polynomial regression\n",
    "X_train, X_test, y_train, y_test = train_test_split(X, y, test_size=0.01, \n",
    "                                                    random_state=1)\n",
    "print(X_train.shape)\n",
    "print(y_train.shape)\n",
    "print(X_test.shape)\n",
    "print(y_test.shape)"
   ]
  },
  {
   "cell_type": "code",
   "execution_count": 94,
   "id": "517d3cfd",
   "metadata": {},
   "outputs": [
    {
     "data": {
      "text/html": [
       "<style>#sk-container-id-5 {color: black;}#sk-container-id-5 pre{padding: 0;}#sk-container-id-5 div.sk-toggleable {background-color: white;}#sk-container-id-5 label.sk-toggleable__label {cursor: pointer;display: block;width: 100%;margin-bottom: 0;padding: 0.3em;box-sizing: border-box;text-align: center;}#sk-container-id-5 label.sk-toggleable__label-arrow:before {content: \"▸\";float: left;margin-right: 0.25em;color: #696969;}#sk-container-id-5 label.sk-toggleable__label-arrow:hover:before {color: black;}#sk-container-id-5 div.sk-estimator:hover label.sk-toggleable__label-arrow:before {color: black;}#sk-container-id-5 div.sk-toggleable__content {max-height: 0;max-width: 0;overflow: hidden;text-align: left;background-color: #f0f8ff;}#sk-container-id-5 div.sk-toggleable__content pre {margin: 0.2em;color: black;border-radius: 0.25em;background-color: #f0f8ff;}#sk-container-id-5 input.sk-toggleable__control:checked~div.sk-toggleable__content {max-height: 200px;max-width: 100%;overflow: auto;}#sk-container-id-5 input.sk-toggleable__control:checked~label.sk-toggleable__label-arrow:before {content: \"▾\";}#sk-container-id-5 div.sk-estimator input.sk-toggleable__control:checked~label.sk-toggleable__label {background-color: #d4ebff;}#sk-container-id-5 div.sk-label input.sk-toggleable__control:checked~label.sk-toggleable__label {background-color: #d4ebff;}#sk-container-id-5 input.sk-hidden--visually {border: 0;clip: rect(1px 1px 1px 1px);clip: rect(1px, 1px, 1px, 1px);height: 1px;margin: -1px;overflow: hidden;padding: 0;position: absolute;width: 1px;}#sk-container-id-5 div.sk-estimator {font-family: monospace;background-color: #f0f8ff;border: 1px dotted black;border-radius: 0.25em;box-sizing: border-box;margin-bottom: 0.5em;}#sk-container-id-5 div.sk-estimator:hover {background-color: #d4ebff;}#sk-container-id-5 div.sk-parallel-item::after {content: \"\";width: 100%;border-bottom: 1px solid gray;flex-grow: 1;}#sk-container-id-5 div.sk-label:hover label.sk-toggleable__label {background-color: #d4ebff;}#sk-container-id-5 div.sk-serial::before {content: \"\";position: absolute;border-left: 1px solid gray;box-sizing: border-box;top: 0;bottom: 0;left: 50%;z-index: 0;}#sk-container-id-5 div.sk-serial {display: flex;flex-direction: column;align-items: center;background-color: white;padding-right: 0.2em;padding-left: 0.2em;position: relative;}#sk-container-id-5 div.sk-item {position: relative;z-index: 1;}#sk-container-id-5 div.sk-parallel {display: flex;align-items: stretch;justify-content: center;background-color: white;position: relative;}#sk-container-id-5 div.sk-item::before, #sk-container-id-5 div.sk-parallel-item::before {content: \"\";position: absolute;border-left: 1px solid gray;box-sizing: border-box;top: 0;bottom: 0;left: 50%;z-index: -1;}#sk-container-id-5 div.sk-parallel-item {display: flex;flex-direction: column;z-index: 1;position: relative;background-color: white;}#sk-container-id-5 div.sk-parallel-item:first-child::after {align-self: flex-end;width: 50%;}#sk-container-id-5 div.sk-parallel-item:last-child::after {align-self: flex-start;width: 50%;}#sk-container-id-5 div.sk-parallel-item:only-child::after {width: 0;}#sk-container-id-5 div.sk-dashed-wrapped {border: 1px dashed gray;margin: 0 0.4em 0.5em 0.4em;box-sizing: border-box;padding-bottom: 0.4em;background-color: white;}#sk-container-id-5 div.sk-label label {font-family: monospace;font-weight: bold;display: inline-block;line-height: 1.2em;}#sk-container-id-5 div.sk-label-container {text-align: center;}#sk-container-id-5 div.sk-container {/* jupyter's `normalize.less` sets `[hidden] { display: none; }` but bootstrap.min.css set `[hidden] { display: none !important; }` so we also need the `!important` here to be able to override the default hidden behavior on the sphinx rendered scikit-learn.org. See: https://github.com/scikit-learn/scikit-learn/issues/21755 */display: inline-block !important;position: relative;}#sk-container-id-5 div.sk-text-repr-fallback {display: none;}</style><div id=\"sk-container-id-5\" class=\"sk-top-container\"><div class=\"sk-text-repr-fallback\"><pre>LinearRegression()</pre><b>In a Jupyter environment, please rerun this cell to show the HTML representation or trust the notebook. <br />On GitHub, the HTML representation is unable to render, please try loading this page with nbviewer.org.</b></div><div class=\"sk-container\" hidden><div class=\"sk-item\"><div class=\"sk-estimator sk-toggleable\"><input class=\"sk-toggleable__control sk-hidden--visually\" id=\"sk-estimator-id-5\" type=\"checkbox\" checked><label for=\"sk-estimator-id-5\" class=\"sk-toggleable__label sk-toggleable__label-arrow\">LinearRegression</label><div class=\"sk-toggleable__content\"><pre>LinearRegression()</pre></div></div></div></div></div>"
      ],
      "text/plain": [
       "LinearRegression()"
      ]
     },
     "execution_count": 94,
     "metadata": {},
     "output_type": "execute_result"
    }
   ],
   "source": [
    "model = LinearRegression()\n",
    "model.fit(X_train, y_train)"
   ]
  },
  {
   "cell_type": "code",
   "execution_count": 95,
   "id": "165fefd8",
   "metadata": {},
   "outputs": [
    {
     "name": "stdout",
     "output_type": "stream",
     "text": [
      "intercept: -6414956.614302821\n",
      "slopes: [ 5.69382078e+05  1.13128436e+04  6.11641248e+04 -8.21818647e+05\n",
      "  3.56624251e+05  1.45915216e+06 -5.18375799e+05 -6.53430143e+05\n",
      "  2.10550298e+05 -8.49729514e+05 -5.99555716e+05 -3.14369866e+05\n",
      "  2.03764996e+05 -2.28812161e+05 -1.23293326e+05 -9.08504767e+05\n",
      "  1.44551574e+05  1.59818336e+05  3.72924141e+06  3.99700700e+05\n",
      "  2.30025522e+05 -1.75191891e+05  1.62900267e+06  2.21230321e+05\n",
      " -6.66350929e+05 -7.02501228e+05 -8.18640705e+05 -4.62309364e+05\n",
      " -6.20344744e+05 -6.72390109e+05  5.72931713e+05 -2.98348937e+05\n",
      " -5.22211708e+05  1.88896073e+06 -7.31892655e+05 -3.58737957e+05\n",
      " -3.07860335e+05 -7.38715460e+05 -8.88126356e+05 -2.37782740e+05\n",
      " -8.46981061e+05 -1.34410592e+05 -8.66046934e+04 -4.12918721e+05\n",
      "  4.97717231e+06 -5.17381229e+05 -9.72888512e+05 -1.65949805e+04\n",
      "  5.59557081e+04 -3.14046649e+05 -9.38019997e+05 -5.96567105e+05\n",
      "  6.11764506e+04 -7.51151295e+05 -5.17467232e+05 -2.84395573e+05\n",
      "  1.28589912e+06  1.54554272e+06 -1.86844068e+05  2.89488140e+05\n",
      " -4.22582301e+05 -5.23359048e+04  1.17912904e+06  2.02344177e+05\n",
      " -4.28912818e+05 -8.82000913e+05  1.77149506e+06  1.81975851e+06\n",
      "  2.80264693e+05 -7.67879723e+05  4.76214916e+04 -7.28995284e+05\n",
      "  1.17309092e+05  2.73397612e+05 -2.35124596e+04 -5.48476563e+04\n",
      "  7.49557130e+06 -1.61101184e+05  1.86288524e+05  5.30582892e+06\n",
      "  1.44788004e+05 -6.37540560e+05 -6.31323167e+05 -3.80506179e+05\n",
      " -3.34233638e+05 -2.74549086e+05 -7.10643313e+04 -1.19155543e+06\n",
      " -5.82490059e+05 -2.29124935e+05 -7.31598064e+05 -1.88510349e+05\n",
      " -3.09763447e+05 -7.35938560e+04 -4.25743366e+05 -2.64128077e+05\n",
      " -5.13127289e+05 -2.82688617e+05  4.65640355e+05 -7.61375085e+05\n",
      " -4.41663343e+05  6.61722095e+04 -1.80059393e+05 -4.65272641e+05\n",
      " -2.35961170e+05 -7.67064782e+05  2.48998579e+05 -2.94810219e+05\n",
      " -3.44384722e+05 -1.05082371e+06 -8.47017620e+05 -4.32248243e+05\n",
      " -6.19944719e+05 -8.25596324e+05  2.45389121e+05 -4.35913903e+05\n",
      " -5.05645133e+05 -4.46824618e+04 -5.79046900e+05  6.59991761e+02\n",
      " -4.34688778e+03 -3.46603106e+05  1.08563782e+06 -6.09012220e+05\n",
      " -1.26335594e+05  1.39020125e+05  4.53458706e+05  9.98061278e+05\n",
      "  1.50091055e+06 -1.98569379e+06  3.74355625e+05  2.55420780e+05\n",
      " -2.35287713e+05  1.59686026e+06 -1.02385308e+06 -3.70831416e+05\n",
      " -7.37309585e+05  1.44092659e+05  1.50763936e+06  8.72768771e+05\n",
      "  2.90224490e+05 -9.04782155e+04 -1.98613910e+06 -7.98995678e+03\n",
      "  9.75103582e+05  4.18662893e+05  3.58383507e+04  3.94159843e+05\n",
      " -8.62893157e+05  2.43887602e+05  7.81202638e+05  2.71028804e+05\n",
      "  2.18117177e+06 -1.69651244e+05 -5.45635557e+05 -1.39258435e+05\n",
      "  1.48765159e+05 -3.89738036e+04  2.06007642e+05  1.35362861e+06\n",
      "  3.69837993e+05 -2.31852605e+05  7.67722081e+05 -5.02134053e+04\n",
      " -5.15058318e+05  1.48990914e+06  4.97141145e+05 -1.94790718e+05\n",
      " -1.22992994e+05  1.08929211e+06  7.31002896e+05  3.08688090e+05\n",
      "  7.74317312e+05  1.73974951e+05  7.58548548e+05  3.82083783e+05\n",
      "  3.29261417e+05 -3.87670661e+05 -2.03638161e+06 -3.60146393e+04\n",
      "  1.30202828e+05 -1.57503655e+06 -1.02766786e+06  5.12188925e+05\n",
      " -7.31875305e+05  9.22271095e+05  2.90548725e+05 -4.53384548e+05\n",
      "  2.23995816e+05 -6.76759885e+05 -1.62165221e+06  9.98244087e+05\n",
      " -1.38616072e+05 -1.32070883e+05  1.30806385e+05  3.17021890e+05\n",
      " -2.33158506e+06 -1.56738426e+06  6.37375547e+05 -5.56942084e+05\n",
      " -2.25962471e+05 -1.76814762e+06  6.25808627e+05  4.83993787e+05\n",
      " -6.41225591e+05  1.86783429e+04 -1.28939446e+06 -1.70142724e+06\n",
      "  9.51499059e+04 -9.45251414e+05  6.74606116e+05 -4.67835623e+05\n",
      "  2.85427692e+05  8.34345852e+05  1.23807952e+05  9.72179446e+04\n",
      "  4.60359796e+05 -2.12509865e+05  8.16409811e+05  3.43173012e+05\n",
      "  3.77432985e+05  3.16467658e+05 -7.51314647e+05  1.01955791e+06\n",
      " -1.24479239e+06  4.60977950e+05  1.87148409e+05 -8.34571162e+05\n",
      " -7.56224136e+05  2.79116633e+05  1.69933547e+05  2.34337064e+05\n",
      "  3.55555954e+05  1.52861457e+04 -1.91041310e+06 -3.69490681e+05\n",
      " -1.68159533e+05  6.08894140e+05  8.27316674e+03 -1.12343109e+05\n",
      "  8.21683483e+04  1.73709932e+04  1.28037673e+04 -1.40211161e+04\n",
      " -6.52572176e+00 -1.14081065e+02]\n"
     ]
    }
   ],
   "source": [
    "print('intercept:', model.intercept_)\n",
    "print('slopes:', model.coef_)"
   ]
  },
  {
   "cell_type": "markdown",
   "id": "90241425",
   "metadata": {},
   "source": [
    "# Rsqaure for Polynomial regression"
   ]
  },
  {
   "cell_type": "code",
   "execution_count": 96,
   "id": "3740060a",
   "metadata": {
    "scrolled": false
   },
   "outputs": [
    {
     "name": "stdout",
     "output_type": "stream",
     "text": [
      "R squared: 0.6405455794983195\n"
     ]
    }
   ],
   "source": [
    "print('R squared:', model.score(X,y))#print('coefficient of determination:', model.score(X, y))"
   ]
  },
  {
   "cell_type": "code",
   "execution_count": 97,
   "id": "af6fa6db",
   "metadata": {
    "scrolled": false
   },
   "outputs": [
    {
     "name": "stdout",
     "output_type": "stream",
     "text": [
      "[ -289726.30241974  2337190.98195573  1108051.4712975   -854305.57290741\n",
      "  1414796.50870328 -1334807.57927119  4596113.30333736  1103521.6685535\n",
      "  3785034.97988874   542302.83751934   348082.77323472   987016.31406283\n",
      "  2852190.99242182  -431089.50106541  1765335.79646807  4182656.01135325\n",
      "   605875.38071509  2513710.78482063   471965.7203367   2029176.86036541\n",
      "  1026363.13546697   916933.59431421   210197.36143688  2969801.7027921\n",
      "  -438394.91419033   974015.71398736  3673498.91453192  -122712.19806657\n",
      "   351074.1836375   -127702.15993589  2328038.0786549   -129404.93359374\n",
      "  2125197.44152718  1057714.36807334  6861895.08361284  1170914.72152056\n",
      "   697396.27778329  1334564.53917781   783662.4886483 ]\n"
     ]
    }
   ],
   "source": [
    "y_hat = model.predict(X_test)\n",
    "print(y_hat)"
   ]
  },
  {
   "cell_type": "markdown",
   "id": "8b064c1c",
   "metadata": {},
   "source": [
    "# RMSE for polynomial regression"
   ]
  },
  {
   "cell_type": "code",
   "execution_count": 98,
   "id": "c62ec690",
   "metadata": {},
   "outputs": [
    {
     "name": "stdout",
     "output_type": "stream",
     "text": [
      "RMSE 1312531.7650288944\n"
     ]
    }
   ],
   "source": [
    "print(\"RMSE\", mean_squared_error(y_test,y_hat,squared = False))"
    "print(\"RMSE\", mean_squared_error(y_test,y_hat,squared = False))"
   ]
  },
  {
   "cell_type": "code",
   "execution_count": null,
   "id": "3bff9001",
   "metadata": {},
   "outputs": [],
   "source": []
  }
 ],
 "metadata": {
  "kernelspec": {
   "display_name": "Python 3 (ipykernel)",
   "language": "python",
   "name": "python3"
  },
  "language_info": {
   "codemirror_mode": {
    "name": "ipython",
    "version": 3
   },
   "file_extension": ".py",
   "mimetype": "text/x-python",
   "name": "python",
   "nbconvert_exporter": "python",
   "pygments_lexer": "ipython3",
   "version": "3.8.18"
  }
 },
 "nbformat": 4,
 "nbformat_minor": 5
}
